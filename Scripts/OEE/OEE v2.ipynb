{
 "cells": [
  {
   "cell_type": "code",
   "execution_count": 192,
   "id": "237a7ce4",
   "metadata": {},
   "outputs": [],
   "source": [
    "import calendar\n",
    "import os\n",
    "import pandas as pd\n",
    "\n",
    "# from exel_loader import df_operations, df_rigs, df_circ_data\n",
    "# from db_loader import df_osi_operations, df_meters\n",
    "\n",
    "\n",
    "# temp read from temp files\n",
    "\n",
    "DATA_DIR = r'K:/DOP/OED/METHOD&TOOLS/3 - PROJECTS/2 - ON GOING/PYTHON/Scripts/OEE/python/data'\n",
    "\n",
    "def read_csv(filename):\n",
    "    path = os.path.join(DATA_DIR, filename)\n",
    "    return pd.read_csv(path)\n",
    "\n",
    "df_circ_data = read_csv('df_circ_data.csv')\n",
    "df_meters = read_csv('df_meters.csv')\n",
    "df_operations = read_csv('df_operations.csv')\n",
    "df_osi_operations = read_csv('df_osi_operations.csv')\n",
    "df_rigs = read_csv('df_rigs.csv')\n",
    "\n",
    "\n",
    "\n",
    "\n",
    "# Функция для преобразования имён колонок:\n",
    "def clean_column_names(columns):\n",
    "    return [col.replace('_', ' ').title() for col in columns]\n",
    "\n",
    "# Очищаем и переименовываем колонки сразу после чтения\n",
    "df_circ_data.columns = clean_column_names(df_circ_data.columns)\n",
    "df_meters.columns = clean_column_names(df_meters.columns)\n",
    "df_operations.columns = clean_column_names(df_operations.columns)\n",
    "df_osi_operations.columns = clean_column_names(df_osi_operations.columns)\n",
    "df_rigs.columns = clean_column_names(df_rigs.columns)\n",
    "\n"
   ]
  },
  {
   "cell_type": "code",
   "execution_count": 193,
   "id": "0b245912",
   "metadata": {},
   "outputs": [],
   "source": [
    "# data modif \n",
    "\n",
    "def add_difference_column(df, col1, col2):\n",
    "    \"\"\"\n",
    "    Возвращает Series: разница между двумя колонками с заменой NaN на 0.\n",
    "    \"\"\"\n",
    "    return (df[col1].fillna(0) - df[col2].fillna(0)).clip(lower=0)\n",
    "\n",
    "\n",
    "def add_ratio_column(df, numerator_col, denominator_col):\n",
    "    \"\"\"\n",
    "    Возвращает Series: отношение numerator_col / denominator_col\n",
    "    с защитой от деления на 0, заменой NaN на 0 и ограничением [0, 1].\n",
    "    \"\"\"\n",
    "    num = df[numerator_col].fillna(0)\n",
    "    denom = df[denominator_col].replace(0, pd.NA).fillna(pd.NA)\n",
    "    ratio = num / denom\n",
    "    return ratio.fillna(0).clip(0, 1)\n",
    "\n",
    "\n",
    "\n",
    "# Работа с df_operations\n",
    "df_operations = df_operations[['Event', 'Category']]\n",
    "df_operations = df_operations[df_operations['Category'].notna()].reset_index(drop=True)\n",
    "\n",
    "\n",
    "# Преобразуем Starttime и Endtime в datetime\n",
    "df_osi_operations['Starttime'] = pd.to_datetime(df_osi_operations['Starttime'], errors='coerce')\n",
    "df_osi_operations['Endtime'] = pd.to_datetime(df_osi_operations['Endtime'], errors='coerce')\n",
    "\n",
    "# Добавляем колонку Duration в df_osi_operations\n",
    "df_osi_operations['Duration'] = df_osi_operations['Endtime'] - df_osi_operations['Starttime']\n",
    "df_osi_operations['Duration'] = df_osi_operations['Duration'].dt.total_seconds() / 3600\n",
    "\n",
    "# Очищаем и фильтруем df_rigs\n",
    "df_rigs = df_rigs[df_rigs['Rig-Acquire'].notna()].reset_index(drop=True)\n",
    "\n",
    "# Приведение к одному формату для слияния\n",
    "df_osi_operations['Equipment'] = df_osi_operations['Equipment'].str.strip().str.lower()\n",
    "df_rigs['Rig-Osidem'] = df_rigs['Rig-Osidem'].str.strip().str.lower()\n"
   ]
  },
  {
   "cell_type": "code",
   "execution_count": 194,
   "id": "e81d7541",
   "metadata": {},
   "outputs": [],
   "source": [
    "# Слияние\n",
    "df_merged = df_osi_operations.merge(\n",
    "    df_rigs,\n",
    "    left_on='Equipment',\n",
    "    right_on='Rig-Osidem',\n",
    "    how='right'\n",
    ")\n",
    "\n",
    "df_temp = df_merged.drop(columns=['Equipment', 'Rig-Osidem'])\n",
    "\n",
    "# Очистка колонок event\n",
    "df_temp['Event'] = df_temp['Event'].str.strip().str.lower()\n",
    "df_operations['Event'] = df_operations['Event'].str.strip().str.lower()\n",
    "\n",
    "# Слияние с категориями\n",
    "df_operations_total = df_temp.merge(df_operations, on='Event', how='left')\n",
    "df_operations_total['Category'] = df_operations_total['Category'].fillna('Standard Work')\n",
    "\n",
    "# Приведение endtime к datetime и фильтрация\n",
    "df_operations_total['Endtime'] = pd.to_datetime(df_operations_total['Endtime'])\n",
    "df_operations_total = df_operations_total.dropna(subset=['Endtime'])"
   ]
  },
  {
   "cell_type": "code",
   "execution_count": 195,
   "id": "41162ea4",
   "metadata": {},
   "outputs": [],
   "source": [
    "# Добавляем year и month\n",
    "df_operations_total['Year-Month'] = df_operations_total['Endtime'].dt.strftime('%Y-%m')\n",
    "\n",
    "# Сводная таблица pivot\n",
    "pivot_df = df_operations_total.pivot_table(\n",
    "    index=['Drillcompany', 'Rig-Acquire', 'Year-Month', 'Tipe Of Circulation'],\n",
    "    columns='Category',\n",
    "    values='Duration',\n",
    "    aggfunc='sum',\n",
    "    fill_value=0\n",
    ").reset_index()"
   ]
  },
  {
   "cell_type": "code",
   "execution_count": 196,
   "id": "f64c4876",
   "metadata": {},
   "outputs": [],
   "source": [
    "pivot_df = pivot_df.sort_values(\n",
    "    by=['Drillcompany', 'Rig-Acquire', 'Year-Month'],\n",
    "    ascending=[True, True, True]\n",
    ").reset_index(drop=True)\n",
    "\n",
    "# Функция для подсчёта часов в месяце\n",
    "def hours_in_month(row):\n",
    "    year_month_str = row['Year-Month']  # предполагается, что у вас есть колонка с таким именем\n",
    "    year, month = map(int, year_month_str.split('-'))\n",
    "    days = calendar.monthrange(year, month)[1]\n",
    "    return days * 24"
   ]
  },
  {
   "cell_type": "code",
   "execution_count": 197,
   "id": "3fc80f6c",
   "metadata": {},
   "outputs": [],
   "source": [
    "pivot_df['H In Month'] = pivot_df.apply(hours_in_month, axis=1)"
   ]
  },
  {
   "cell_type": "code",
   "execution_count": 198,
   "id": "f5b9c2dc",
   "metadata": {},
   "outputs": [],
   "source": [
    "# Преобразование ENDDATE в datetime\n",
    "df_meters['Enddate'] = pd.to_datetime(df_meters['Enddate'], errors='coerce')\n",
    "df_meters.dropna(subset=['Enddate'], inplace=True)\n",
    "df_meters['Year-Month'] = df_meters['Enddate'].dt.strftime('%Y-%m')\n"
   ]
  },
  {
   "cell_type": "code",
   "execution_count": 199,
   "id": "abf25d96",
   "metadata": {},
   "outputs": [],
   "source": [
    "pivot2 = pd.pivot_table(\n",
    "    df_meters,\n",
    "    index=['Year-Month', 'Drillrig'],\n",
    "    columns='Holestatus',\n",
    "    values='Holeid',\n",
    "    aggfunc='count',\n",
    "    fill_value=0\n",
    ")"
   ]
  },
  {
   "cell_type": "code",
   "execution_count": 200,
   "id": "800eec12",
   "metadata": {},
   "outputs": [],
   "source": [
    "depth_sum = df_meters.groupby(['Year-Month', 'Drillrig'])['Depth'].sum()\n",
    "pivot2['Depth'] = depth_sum\n",
    "meters_pivot = pivot2.reset_index()\n",
    "\n",
    "# Приведение к верхнему регистру и очистка пробелов\n",
    "pivot_df['Rig-Acquire'] = pivot_df['Rig-Acquire'].str.strip().str.upper()\n",
    "meters_pivot['Drillrig'] = meters_pivot['Drillrig'].str.strip().str.upper()\n",
    "\n",
    "total_merged_df = pd.merge(\n",
    "    pivot_df,\n",
    "    meters_pivot,\n",
    "    left_on=['Rig-Acquire', 'Year-Month'],\n",
    "    right_on=['Drillrig', 'Year-Month'],\n",
    "    how='left'\n",
    ")"
   ]
  },
  {
   "cell_type": "code",
   "execution_count": 201,
   "id": "42f10612",
   "metadata": {},
   "outputs": [],
   "source": [
    "total_merged_df.drop(columns='Rig-Acquire', inplace=True)"
   ]
  },
  {
   "cell_type": "code",
   "execution_count": 202,
   "id": "613fa707",
   "metadata": {},
   "outputs": [],
   "source": [
    "# Расчёты Planned Production Time и Planned Factor с ограничениями\n",
    "total_merged_df['Planned Production Time'] = add_difference_column(total_merged_df, 'H In Month', 'Planned_downtime')"
   ]
  },
  {
   "cell_type": "code",
   "execution_count": 203,
   "id": "35a451e9",
   "metadata": {},
   "outputs": [],
   "source": [
    "total_merged_df['Planned Factor'] = add_ratio_column(\n",
    "    total_merged_df, 'Planned Production Time', 'H In Month'\n",
    ")\n",
    "\n",
    "# Gross Operating Time (GOT) и Availability\n",
    "total_merged_df['Gross Operating Time'] = add_difference_column(\n",
    "    total_merged_df, 'Planned Production Time', 'Unplanned_downtime_losses'\n",
    ")"
   ]
  },
  {
   "cell_type": "code",
   "execution_count": 204,
   "id": "fec38047",
   "metadata": {},
   "outputs": [],
   "source": [
    "total_merged_df['Availability'] = add_ratio_column(\n",
    "    total_merged_df, 'Gross Operating Time', 'Planned Production Time'\n",
    ")\n",
    "\n",
    "# Назначаем коэффициенты по типу циркуляции\n",
    "circ_avg_drilling = df_circ_data.set_index('Circ')['Standard Avarage Drilling, M/H'].to_dict()\n",
    "time_to_well_drill = df_circ_data.set_index('Circ')['Time To Well Drill, H'].to_dict()\n",
    "\n",
    "# Записываем два столбца в df\n",
    "total_merged_df['Circulation Coeff'] = total_merged_df['Tipe Of Circulation'].map(circ_avg_drilling)\n",
    "total_merged_df['Well Drill Coef'] = total_merged_df['Tipe Of Circulation'].map(time_to_well_drill)\n",
    "\n",
    "\n",
    "# Потенциальная глубина бурения\n",
    "total_merged_df['Potential Depth'] = (\n",
    "    total_merged_df['Gross Operating Time'] * total_merged_df['Circulation Coeff']\n",
    ")"
   ]
  },
  {
   "cell_type": "code",
   "execution_count": 205,
   "id": "9b1205a7",
   "metadata": {},
   "outputs": [],
   "source": [
    "total_merged_df['Net Operating Time'] = total_merged_df['Depth'].div(\n",
    "    total_merged_df['Circulation Coeff']\n",
    ").fillna(0)"
   ]
  },
  {
   "cell_type": "code",
   "execution_count": 206,
   "id": "0c660557",
   "metadata": {},
   "outputs": [],
   "source": [
    "total_merged_df['Speed Losses'] = add_difference_column(\n",
    "    total_merged_df, 'Gross Operating Time', 'Net Operating Time'\n",
    ")"
   ]
  },
  {
   "cell_type": "code",
   "execution_count": 207,
   "id": "15b052b4",
   "metadata": {},
   "outputs": [
    {
     "name": "stderr",
     "output_type": "stream",
     "text": [
      "C:\\Users\\ykarabekov\\AppData\\Local\\Temp\\ipykernel_13684\\1726980654.py:18: FutureWarning: Downcasting object dtype arrays on .fillna, .ffill, .bfill is deprecated and will change in a future version. Call result.infer_objects(copy=False) instead. To opt-in to the future behavior, set `pd.set_option('future.no_silent_downcasting', True)`\n",
      "  return ratio.fillna(0).clip(0, 1)\n"
     ]
    }
   ],
   "source": [
    "total_merged_df['Performance'] = add_ratio_column(total_merged_df, 'Net Operating Time', 'Gross Operating Time')\n",
    "\n",
    "total_merged_df['Quality Losses'] =  total_merged_df.get('Well Drill Coef', 0) * total_merged_df.get('Liquid', 0)\n",
    "\n",
    "# Valuable Operating Time\n",
    "total_merged_df['Valuable Operating Time'] = add_difference_column(\n",
    "    total_merged_df, 'Net Operating Time', 'Quality Losses'\n",
    "    )\n"
   ]
  },
  {
   "cell_type": "code",
   "execution_count": 208,
   "id": "e37fd91b",
   "metadata": {},
   "outputs": [
    {
     "name": "stderr",
     "output_type": "stream",
     "text": [
      "C:\\Users\\ykarabekov\\AppData\\Local\\Temp\\ipykernel_13684\\1726980654.py:18: FutureWarning: Downcasting object dtype arrays on .fillna, .ffill, .bfill is deprecated and will change in a future version. Call result.infer_objects(copy=False) instead. To opt-in to the future behavior, set `pd.set_option('future.no_silent_downcasting', True)`\n",
      "  return ratio.fillna(0).clip(0, 1)\n"
     ]
    }
   ],
   "source": [
    "total_merged_df['Quality'] = add_ratio_column(\n",
    "    total_merged_df, 'Valuable Operating Time', 'Net Operating Time'\n",
    "    )"
   ]
  },
  {
   "cell_type": "code",
   "execution_count": 209,
   "id": "9235b1ca",
   "metadata": {},
   "outputs": [
    {
     "data": {
      "text/plain": [
       "Index(['Drillcompany', 'Year-Month', 'Tipe Of Circulation', 'Planned_downtime',\n",
       "       'Standard Work', 'Unplanned_downtime_losses', 'H In Month', 'Drillrig',\n",
       "       'ACCEPTED', 'LIQUID', 'NOT PROFITABLE', 'Depth',\n",
       "       'Planned Production Time', 'Planned Factor', 'Gross Operating Time',\n",
       "       'Availability', 'Circulation Coeff', 'Well Drill Coef',\n",
       "       'Potential Depth', 'Net Operating Time', 'Speed Losses', 'Performance',\n",
       "       'Quality Losses', 'Valuable Operating Time', 'Quality'],\n",
       "      dtype='object')"
      ]
     },
     "execution_count": 209,
     "metadata": {},
     "output_type": "execute_result"
    }
   ],
   "source": [
    "total_merged_df.columns"
   ]
  },
  {
   "cell_type": "code",
   "execution_count": 210,
   "id": "39253a24",
   "metadata": {},
   "outputs": [],
   "source": [
    "total_merged_df['OEE'] = (\n",
    "    total_merged_df['Availability'] *\n",
    "    total_merged_df['Performance'] *\n",
    "    total_merged_df['Quality']\n",
    ")\n",
    "\n",
    "\n",
    "total_merged_df['TRS'] = total_merged_df['OEE'] * total_merged_df['Planned Factor']"
   ]
  },
  {
   "cell_type": "code",
   "execution_count": 211,
   "id": "ecee8441",
   "metadata": {},
   "outputs": [],
   "source": [
    "total_merged_df.columns = clean_column_names(total_merged_df.columns)"
   ]
  },
  {
   "cell_type": "code",
   "execution_count": 212,
   "id": "01ec7a55",
   "metadata": {},
   "outputs": [],
   "source": [
    "total_merged_df = total_merged_df.rename(columns={'Drillrig': 'Rig'})"
   ]
  },
  {
   "cell_type": "code",
   "execution_count": 213,
   "id": "b98f55fd",
   "metadata": {},
   "outputs": [],
   "source": [
    "df_losses = pd.melt(\n",
    "    total_merged_df,\n",
    "    id_vars=[\n",
    "        'Drillcompany',\n",
    "        'Rig',\n",
    "        'Year-Month',\n",
    "        'Tipe Of Circulation'\n",
    "    ],\n",
    "    value_vars=[\n",
    "        'Planned Downtime',\n",
    "        'Unplanned Downtime Losses',\n",
    "        'Speed Losses',\n",
    "        'Quality Losses'\n",
    "    ],\n",
    "    var_name='Loss Type',\n",
    "    value_name='Loss Value'\n",
    ")"
   ]
  },
  {
   "cell_type": "code",
   "execution_count": 214,
   "id": "4f23097e",
   "metadata": {},
   "outputs": [],
   "source": [
    "df_productivity = pd.melt(\n",
    "    total_merged_df,\n",
    "    id_vars=[\n",
    "        'Drillcompany',\n",
    "        'Rig',\n",
    "        'Year-Month',\n",
    "        'Tipe Of Circulation'\n",
    "    ],\n",
    "    value_vars=[\n",
    "        'Planned Factor',\n",
    "        'Availability',\n",
    "        'Performance',\n",
    "        'Quality',\n",
    "        'Oee',\n",
    "        'Trs'\n",
    "    ],\n",
    "    var_name='Productivity Type',\n",
    "    value_name='Productivity Value'\n",
    ")"
   ]
  },
  {
   "cell_type": "code",
   "execution_count": 215,
   "id": "64e23a5a",
   "metadata": {},
   "outputs": [],
   "source": [
    "df_operations_total['Category'] = df_operations_total['Category'].replace({\n",
    "    'Planned_downtime': 'Planned Downtime',\n",
    "    'Unplanned_downtime_losses': 'Unplanned Downtime Losses'\n",
    "})"
   ]
  },
  {
   "cell_type": "code",
   "execution_count": 216,
   "id": "29fc3867",
   "metadata": {},
   "outputs": [],
   "source": [
    "df_operations_total = df_operations_total.rename(columns={'Rig-Acquire': 'Rig'})"
   ]
  },
  {
   "cell_type": "code",
   "execution_count": 217,
   "id": "7d65e1fa",
   "metadata": {},
   "outputs": [],
   "source": [
    "df_operations_total['Event Category'] = df_operations_total['Event'].str.split('_').str[0].str.upper()\n",
    "df_operations_total['Event'] = df_operations_total['Event'].str.split('_', n=1).str[1].str.capitalize()"
   ]
  },
  {
   "cell_type": "code",
   "execution_count": 218,
   "id": "f7344bd6",
   "metadata": {},
   "outputs": [],
   "source": [
    "df_events_duration = df_operations_total[\n",
    "    [\n",
    "        'Year-Month',\n",
    "        \"Category\",\n",
    "        'Drillcompany',\n",
    "        'Rig',\n",
    "        'Tipe Of Circulation',\n",
    "        \"Event Category\",\n",
    "        \"Event\",\n",
    "        \"Duration\"\n",
    "    ]\n",
    "].sort_values(\n",
    "    by=['Year-Month', 'Rig', 'Category', 'Duration'],\n",
    "    ascending=[True, True, True, False],\n",
    ")\n",
    "\n"
   ]
  },
  {
   "cell_type": "code",
   "execution_count": 219,
   "id": "edc47852",
   "metadata": {},
   "outputs": [],
   "source": [
    "df_meters.dropna(subset=['Drillcompany', 'Drillrig'], inplace=True)"
   ]
  },
  {
   "cell_type": "code",
   "execution_count": 220,
   "id": "62b895ae",
   "metadata": {},
   "outputs": [],
   "source": [
    "df_meters.columns = [\n",
    "    'Hole ID',\n",
    "    'Drilling Company',\n",
    "    'Rig',\n",
    "    'Purpose',\n",
    "    'Status',\n",
    "    'End_Date',\n",
    "    'Depth_m',\n",
    "    'Year-Month'\n",
    "]\n",
    "\n",
    "df_meters = df_meters.drop(columns=['End_Date'])\n",
    "\n"
   ]
  },
  {
   "cell_type": "code",
   "execution_count": 221,
   "id": "d5f0402e",
   "metadata": {},
   "outputs": [
    {
     "name": "stdout",
     "output_type": "stream",
     "text": [
      "             Hole ID   Drilling Company             Rig  Purpose    Status  \\\n",
      "0     MSK39_08_09_A4       BurGeoProekt   PRAKLA_01-BGP  PRODUCT  ACCEPTED   \n",
      "1     MSK03_06_02_A_       BurGeoProekt   PRAKLA_03-BGP  PRODUCT    LIQUID   \n",
      "2     MSK03_04_05_A_       BurGeoProekt   PRAKLA_04-BGP  PRODUCT    LIQUID   \n",
      "3     MSK03_04_09_A_       BurGeoProekt   PRAKLA_04-BGP  PRODUCT    LIQUID   \n",
      "4     MSK04_05_04_A_       BurGeoProekt  ZIF1200_29-BGP   INJECT  ACCEPTED   \n",
      "...              ...                ...             ...      ...       ...   \n",
      "7096  TNU39_08_05_A_  TechnoService-Eng  ZIF1200_01-TSE  PRODUCT  ACCEPTED   \n",
      "7097  TNU39_08_03_B_  TechnoService-Eng  ZIF1200_08-TSE  PRODUCT  ACCEPTED   \n",
      "7098  TNU39_08_07_A_  TechnoService-Eng  ZIF1200_04-TSE  PRODUCT  ACCEPTED   \n",
      "7099  TNU39_13_09_A_  TechnoService-Eng  ZIF1200_03-TSE   INJECT  ACCEPTED   \n",
      "7100  TNU39_13_10_A_  TechnoService-Eng  ZIF1200_08-TSE   INJECT  ACCEPTED   \n",
      "\n",
      "      Depth_m Year-Month  \n",
      "0       508.0    2020-04  \n",
      "1       475.0    2020-04  \n",
      "2       503.0    2020-09  \n",
      "3       506.0    2020-09  \n",
      "4       498.0    2020-09  \n",
      "...       ...        ...  \n",
      "7096    297.0    2025-05  \n",
      "7097    298.0    2025-05  \n",
      "7098    296.0    2025-05  \n",
      "7099    292.0    2025-05  \n",
      "7100    292.0    2025-05  \n",
      "\n",
      "[7101 rows x 7 columns]\n",
      "       Year-Month                   Category Drillcompany            Rig  \\\n",
      "197688    2020-02           Planned Downtime        KATCO      DBKAZ40-1   \n",
      "197689    2020-02           Planned Downtime        KATCO      DBKAZ40-1   \n",
      "197690    2020-02           Planned Downtime        KATCO      DBKAZ40-1   \n",
      "197694    2020-02           Planned Downtime        KATCO      DBKAZ40-1   \n",
      "197697    2020-02           Planned Downtime        KATCO      DBKAZ40-1   \n",
      "...           ...                        ...          ...            ...   \n",
      "279594    2025-06  Unplanned Downtime Losses        KATCO  ZMO1500-6-KAT   \n",
      "279607    2025-06  Unplanned Downtime Losses        KATCO  ZMO1500-6-KAT   \n",
      "276364    2025-06  Unplanned Downtime Losses        KATCO  ZMO1500-6-KAT   \n",
      "276371    2025-06  Unplanned Downtime Losses        KATCO  ZMO1500-6-KAT   \n",
      "276378    2025-06  Unplanned Downtime Losses        KATCO  ZMO1500-6-KAT   \n",
      "\n",
      "       Tipe Of Circulation Event Category                           Event  \\\n",
      "197688                  RC             WT                             Ppr   \n",
      "197689                  RC             WT                           Lunch   \n",
      "197690                  RC             WT                             Ppr   \n",
      "197694                  RC             WT                           Lunch   \n",
      "197697                  RC             WT                             Ppr   \n",
      "...                    ...            ...                             ...   \n",
      "279594              Direct             WT  Waiting_for_logging_result_5_2   \n",
      "279607              Direct             SB                    Expected_mud   \n",
      "276364              Direct             SB                    Expected_mud   \n",
      "276371              Direct             SB                   Expected_tool   \n",
      "276378              Direct             SB                    Expected_mud   \n",
      "\n",
      "        Duration  \n",
      "197688       1.0  \n",
      "197689       1.0  \n",
      "197690       1.0  \n",
      "197694       1.0  \n",
      "197697       1.0  \n",
      "...          ...  \n",
      "279594       2.0  \n",
      "279607       2.0  \n",
      "276364       1.0  \n",
      "276371       1.0  \n",
      "276378       1.0  \n",
      "\n",
      "[506970 rows x 8 columns]\n",
      "            Drillcompany             Rig Year-Month Tipe Of Circulation  \\\n",
      "0           BurGeoProekt  ZIF1200_01-BGP    2020-02              Direct   \n",
      "1           BurGeoProekt  ZIF1200_01-BGP    2020-03              Direct   \n",
      "2           BurGeoProekt  ZIF1200_01-BGP    2020-04              Direct   \n",
      "3           BurGeoProekt             NaN    2021-01              Direct   \n",
      "4           BurGeoProekt  ZIF1200_01-BGP    2021-02              Direct   \n",
      "...                  ...             ...        ...                 ...   \n",
      "16897  TechnoService-Eng  ZIF1200_16-TSE    2023-03              Direct   \n",
      "16898  TechnoService-Eng  ZIF1200_16-TSE    2023-04              Direct   \n",
      "16899  TechnoService-Eng  ZIF1200_16-TSE    2023-05              Direct   \n",
      "16900  TechnoService-Eng  ZIF1200_16-TSE    2023-06              Direct   \n",
      "16901  TechnoService-Eng  ZIF1200_16-TSE    2023-07              Direct   \n",
      "\n",
      "      Productivity Type  Productivity Value  \n",
      "0        Planned Factor            1.000000  \n",
      "1        Planned Factor            0.936828  \n",
      "2        Planned Factor            0.976389  \n",
      "3        Planned Factor            0.987903  \n",
      "4        Planned Factor            0.875000  \n",
      "...                 ...                 ...  \n",
      "16897               Trs            0.292214  \n",
      "16898               Trs            0.582305  \n",
      "16899               Trs            0.281262  \n",
      "16900               Trs            0.536523  \n",
      "16901               Trs            0.563521  \n",
      "\n",
      "[16902 rows x 6 columns]\n",
      "            Drillcompany             Rig Year-Month Tipe Of Circulation  \\\n",
      "0           BurGeoProekt  ZIF1200_01-BGP    2020-02              Direct   \n",
      "1           BurGeoProekt  ZIF1200_01-BGP    2020-03              Direct   \n",
      "2           BurGeoProekt  ZIF1200_01-BGP    2020-04              Direct   \n",
      "3           BurGeoProekt             NaN    2021-01              Direct   \n",
      "4           BurGeoProekt  ZIF1200_01-BGP    2021-02              Direct   \n",
      "...                  ...             ...        ...                 ...   \n",
      "11263  TechnoService-Eng  ZIF1200_16-TSE    2023-03              Direct   \n",
      "11264  TechnoService-Eng  ZIF1200_16-TSE    2023-04              Direct   \n",
      "11265  TechnoService-Eng  ZIF1200_16-TSE    2023-05              Direct   \n",
      "11266  TechnoService-Eng  ZIF1200_16-TSE    2023-06              Direct   \n",
      "11267  TechnoService-Eng  ZIF1200_16-TSE    2023-07              Direct   \n",
      "\n",
      "              Loss Type  Loss Value  \n",
      "0      Planned Downtime         0.0  \n",
      "1      Planned Downtime        47.0  \n",
      "2      Planned Downtime        17.0  \n",
      "3      Planned Downtime         9.0  \n",
      "4      Planned Downtime        84.0  \n",
      "...                 ...         ...  \n",
      "11263    Quality Losses         0.0  \n",
      "11264    Quality Losses         0.0  \n",
      "11265    Quality Losses         0.0  \n",
      "11266    Quality Losses         0.0  \n",
      "11267    Quality Losses         0.0  \n",
      "\n",
      "[11268 rows x 6 columns]\n"
     ]
    }
   ],
   "source": [
    "print(df_meters)\n",
    "print(df_events_duration)\n",
    "print(df_productivity)\n",
    "print(df_losses)\n"
   ]
  },
  {
   "cell_type": "code",
   "execution_count": 222,
   "id": "0933693b",
   "metadata": {},
   "outputs": [
    {
     "data": {
      "text/plain": [
       "0     2020-02\n",
       "1     2020-03\n",
       "2     2020-04\n",
       "3     2020-08\n",
       "4     2020-09\n",
       "       ...   \n",
       "57    2025-02\n",
       "58    2025-03\n",
       "59    2025-04\n",
       "60    2025-05\n",
       "61    2025-06\n",
       "Name: Year-Month, Length: 62, dtype: object"
      ]
     },
     "execution_count": 222,
     "metadata": {},
     "output_type": "execute_result"
    }
   ],
   "source": [
    "unique_dates_series = pd.Series(\n",
    "    sorted(df_productivity['Year-Month'].dropna().unique()),\n",
    "    name='Year-Month'\n",
    ")\n",
    "\n",
    "unique_dates_series\n"
   ]
  },
  {
   "cell_type": "code",
   "execution_count": null,
   "id": "4d07bc10",
   "metadata": {},
   "outputs": [
    {
     "data": {
      "text/plain": [
       "0        Planned Downtime\n",
       "1        Planned Downtime\n",
       "2        Planned Downtime\n",
       "3        Planned Downtime\n",
       "4        Planned Downtime\n",
       "               ...       \n",
       "11263      Quality Losses\n",
       "11264      Quality Losses\n",
       "11265      Quality Losses\n",
       "11266      Quality Losses\n",
       "11267      Quality Losses\n",
       "Name: Loss Type, Length: 11268, dtype: object"
      ]
     },
     "execution_count": 225,
     "metadata": {},
     "output_type": "execute_result"
    }
   ],
   "source": [
    "df_productivity['Productivity Type'].value_counts()\n",
    "\n",
    "df_losses['Loss Type']"
   ]
  }
 ],
 "metadata": {
  "kernelspec": {
   "display_name": ".venv",
   "language": "python",
   "name": "python3"
  },
  "language_info": {
   "codemirror_mode": {
    "name": "ipython",
    "version": 3
   },
   "file_extension": ".py",
   "mimetype": "text/x-python",
   "name": "python",
   "nbconvert_exporter": "python",
   "pygments_lexer": "ipython3",
   "version": "3.11.8"
  }
 },
 "nbformat": 4,
 "nbformat_minor": 5
}

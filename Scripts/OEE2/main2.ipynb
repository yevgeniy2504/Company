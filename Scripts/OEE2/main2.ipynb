{
 "cells": [
  {
   "cell_type": "code",
   "execution_count": 1,
   "id": "38ec7f66",
   "metadata": {},
   "outputs": [],
   "source": [
    "import calendar\n",
    "import os\n",
    "import pandas as pd\n",
    "from python.save_csv import save_df_to_csv\n",
    "from datetime import timedelta, datetime"
   ]
  }
 ],
 "metadata": {
  "kernelspec": {
   "display_name": ".venv",
   "language": "python",
   "name": "python3"
  },
  "language_info": {
   "codemirror_mode": {
    "name": "ipython",
    "version": 3
   },
   "file_extension": ".py",
   "mimetype": "text/x-python",
   "name": "python",
   "nbconvert_exporter": "python",
   "pygments_lexer": "ipython3",
   "version": "3.11.8"
  }
 },
 "nbformat": 4,
 "nbformat_minor": 5
}

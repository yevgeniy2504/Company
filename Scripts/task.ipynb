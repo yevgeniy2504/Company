{
 "cells": [
  {
   "cell_type": "code",
   "execution_count": 2,
   "id": "a151e322",
   "metadata": {},
   "outputs": [],
   "source": [
    "import pandas as pd\n",
    "\n",
    "before_rvr = pd.read_excel(\n",
    "    \"k:/DOP/OED/METHOD&TOOLS/3 - PROJECTS/2 - ON GOING/2 - OE/2505 RVR investigation/Копия RVR wells and totalizers new.xlsx\",\n",
    "    sheet_name='Tot before RVR')\n",
    "\n",
    "after_rvr = pd.read_excel(\n",
    "    \"k:/DOP/OED/METHOD&TOOLS/3 - PROJECTS/2 - ON GOING/2 - OE/2505 RVR investigation/Копия RVR wells and totalizers new.xlsx\",\n",
    "    sheet_name='Tot after RVR')\n",
    "\n",
    "in_rvr = pd.read_excel(\n",
    "    \"k:/DOP/OED/METHOD&TOOLS/3 - PROJECTS/2 - ON GOING/2 - OE/2505 RVR investigation/Копия RVR wells and totalizers new.xlsx\",\n",
    "    sheet_name='totalizers in RVR')\n",
    "\n",
    "summateors = pd.read_excel(\n",
    "    \"k:/DOP/OED/METHOD&TOOLS/3 - PROJECTS/2 - ON GOING/2 - OE/2505 RVR investigation/Копия RVR wells and totalizers new.xlsx\",\n",
    "    sheet_name='SUMMATORS')\n",
    "\n",
    "rvr_dates = pd.read_excel(\n",
    "    \"k:/DOP/OED/METHOD&TOOLS/3 - PROJECTS/2 - ON GOING/2 - OE/2505 RVR investigation/Копия RVR wells and totalizers new.xlsx\",\n",
    "    sheet_name='RVR_dates')\n"
   ]
  },
  {
   "cell_type": "code",
   "execution_count": 3,
   "id": "45b53334",
   "metadata": {},
   "outputs": [
    {
     "name": "stdout",
     "output_type": "stream",
     "text": [
      "<class 'pandas.core.frame.DataFrame'>\n",
      "RangeIndex: 3509 entries, 0 to 3508\n",
      "Data columns (total 8 columns):\n",
      " #   Column                    Non-Null Count  Dtype         \n",
      "---  ------                    --------------  -----         \n",
      " 0   asset                     3509 non-null   object        \n",
      " 1   Event_template            3509 non-null   object        \n",
      " 2   Start_time                3509 non-null   datetime64[ns]\n",
      " 3   End_time                  3509 non-null   datetime64[ns]\n",
      " 4   LastValid.summator_date   3509 non-null   datetime64[ns]\n",
      " 5   LastValid.summator_value  3509 non-null   int64         \n",
      " 6   LastValid.Flow            3509 non-null   float64       \n",
      " 7   Столбец1                  3509 non-null   float64       \n",
      "dtypes: datetime64[ns](3), float64(2), int64(1), object(2)\n",
      "memory usage: 219.4+ KB\n"
     ]
    }
   ],
   "source": [
    "after_rvr.info()"
   ]
  }
 ],
 "metadata": {
  "kernelspec": {
   "display_name": ".venv",
   "language": "python",
   "name": "python3"
  },
  "language_info": {
   "codemirror_mode": {
    "name": "ipython",
    "version": 3
   },
   "file_extension": ".py",
   "mimetype": "text/x-python",
   "name": "python",
   "nbconvert_exporter": "python",
   "pygments_lexer": "ipython3",
   "version": "3.11.8"
  }
 },
 "nbformat": 4,
 "nbformat_minor": 5
}
